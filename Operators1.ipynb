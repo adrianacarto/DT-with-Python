{
  "nbformat": 4,
  "nbformat_minor": 0,
  "metadata": {
    "colab": {
      "name": "Operators1.ipynb",
      "provenance": [],
      "collapsed_sections": [],
      "include_colab_link": true
    },
    "kernelspec": {
      "name": "python3",
      "display_name": "Python 3"
    }
  },
  "cells": [
    {
      "cell_type": "markdown",
      "metadata": {
        "id": "view-in-github",
        "colab_type": "text"
      },
      "source": [
        "<a href=\"https://colab.research.google.com/github/adrianacarto/DT-with-Python/blob/main/Operators1.ipynb\" target=\"_parent\"><img src=\"https://colab.research.google.com/assets/colab-badge.svg\" alt=\"Open In Colab\"/></a>"
      ]
    },
    {
      "cell_type": "markdown",
      "metadata": {
        "id": "3O7iro_BV0mL"
      },
      "source": [
        "# Operators - arithmetic\n",
        "\n",
        "---"
      ]
    },
    {
      "cell_type": "markdown",
      "metadata": {
        "id": "Nk7bg_hfLzu7"
      },
      "source": [
        "In Python, we can use the following arithmetic operators:  \n",
        "\n",
        "![Python operators](https://drive.google.com/uc?id=1EARs0OefvMwAULyNGGs01xYLW3lIAO9B)\n",
        "\n",
        "\n",
        "\n",
        "\n",
        "\n",
        "\n",
        "\n",
        "\n",
        "\n"
      ]
    },
    {
      "cell_type": "markdown",
      "metadata": {
        "id": "ohKiZuy-OnDN"
      },
      "source": [
        "---\n",
        "### Exercise 1 - multiplication of integers\n",
        "Write a function called **print_dog_human_age()** which will:  \n",
        "\n",
        "*  ask the user to input their dog's age and assign this to an integer variable called **dog_age**  \n",
        "*  calculate the dog’s age in human years by multiplying it by 7, assigning it to a new variable called **dog_human_age**  \n",
        "*  print the age in human years (`dog_human_age`)    \n",
        "\n",
        "Test Input:  \n",
        "4  \n",
        "\n",
        "Expected output:  \n",
        "28\n"
      ]
    },
    {
      "cell_type": "code",
      "metadata": {
        "id": "kWpM2m4nO7Ir",
        "colab": {
          "base_uri": "https://localhost:8080/"
        },
        "outputId": "6b744ec7-5bb6-421d-af27-887ee7896358"
      },
      "source": [
        "def print_dog_human_age() :\n",
        "\n",
        "  dog_age=int(input(\"dog age\"))\n",
        "  dog_human_age=dog_age*7\n",
        "  print(dog_human_age)\n",
        "\n",
        "print_dog_human_age()  "
      ],
      "execution_count": 8,
      "outputs": [
        {
          "output_type": "stream",
          "name": "stdout",
          "text": [
            "dog age4\n",
            "28\n"
          ]
        }
      ]
    },
    {
      "cell_type": "markdown",
      "metadata": {
        "id": "fvxtRRcfOnGr"
      },
      "source": [
        "---\n",
        "### Exercise 2 - BIDMAS\n",
        "Write a function called **calculate_average()** which will:  \n",
        "\n",
        "*  ask the user for 3 seperate numbers, **num1**, **num2**, **num3**  \n",
        "*  calculate the **average** of the three numbers\n",
        "*  print the `average`, rounded to 2 decimal places  \n",
        "\n",
        "*Hint 1:  to round a number, use round(), e.g. round(`average`)  *\n",
        "*Hint 2: remember the BIDMAS order of operators and use brackets to change the order if necessary.*  \n",
        "\n",
        "Test Input:  \n",
        "3  \n",
        "5  \n",
        "9  \n",
        "\n",
        "Expected output:  \n",
        "5.67"
      ]
    },
    {
      "cell_type": "code",
      "metadata": {
        "id": "jYtLq8olPRZM",
        "colab": {
          "base_uri": "https://localhost:8080/"
        },
        "outputId": "b68cbe29-0fde-440e-8712-468483de3ed2"
      },
      "source": [
        "def calculate_average() :\n",
        "  num1=int(input(\"write a number\"))\n",
        "  num2=int(input(\"write another number\"))\n",
        "  num3=int(input(\"write a third number\"))\n",
        "\n",
        "  total_average=round((num1+num2+num3)/3,2)\n",
        "\n",
        "  print(total_average)\n",
        "\n",
        "calculate_average() "
      ],
      "execution_count": 11,
      "outputs": [
        {
          "output_type": "stream",
          "name": "stdout",
          "text": [
            "write a number3\n",
            "write another number5\n",
            "write a third number9\n",
            "5.67\n"
          ]
        }
      ]
    },
    {
      "cell_type": "markdown",
      "metadata": {
        "id": "r9w0fiW-PR2D"
      },
      "source": [
        "---\n",
        "### Exercise 3 - BIDMAS\n",
        "\n",
        "Write a function called **calculate_avg_height()** which will:  \n",
        "\n",
        "*  ask the user to input their **height**  \n",
        "*  convert `height` to **height_centimeters** (multiply by 100)  \n",
        "*  print `height_centimeters`  \n",
        "\n",
        "*Remember, height in metres is usually a decimal, so data type matters*  \n",
        "\n",
        "Test Input:  \n",
        "1.67  \n",
        "\n",
        "Expected output:  \n",
        "167\n"
      ]
    },
    {
      "cell_type": "code",
      "metadata": {
        "id": "2dMgvQlUPirV",
        "colab": {
          "base_uri": "https://localhost:8080/"
        },
        "outputId": "e1a89661-5fed-493d-b63c-68a03ede4c7c"
      },
      "source": [
        "def calculate_avg_height() :\n",
        "  height=float(input(\"height in meters please \"))\n",
        "  height_centimeters=int(height*100)\n",
        "\n",
        "  print(height_centimeters,\"cm\")\n",
        "\n",
        "calculate_avg_height()"
      ],
      "execution_count": 19,
      "outputs": [
        {
          "output_type": "stream",
          "name": "stdout",
          "text": [
            "height in meters please 1.67\n",
            "167 cm\n"
          ]
        }
      ]
    },
    {
      "cell_type": "markdown",
      "metadata": {
        "id": "QTprQ2zhPi9L"
      },
      "source": [
        "---\n",
        "### Exercise 4 - float and formatting printing\n",
        "\n",
        "At the time of writing, the exchange rate from Pounds (£) to Euros (€) is 1.16 (£1 = €1.16).\n",
        "\n",
        "Write a function called **convert_currency(**) which will:\n",
        "\n",
        "*  ask a user to input an amount in **pounds**  \n",
        "*  calculate the equivalent number of **euros**  \n",
        "*  print `euros`, rounded to 2 decimal places  \n",
        "\n",
        "Test Input:  \n",
        "£60\n",
        "\n",
        "Expected output:  \n",
        "€69.6  \n",
        "\n",
        "*Remember, pounds is likely to be a decimal number and that the user should not enter the £ sign.*"
      ]
    },
    {
      "cell_type": "code",
      "metadata": {
        "id": "DXqxS75kQWOm",
        "colab": {
          "base_uri": "https://localhost:8080/"
        },
        "outputId": "dc5327c3-703b-4986-f75f-59aff4e8f365"
      },
      "source": [
        "def convert_currency() :\n",
        "  pounds=float(input(\"amount in pounds £ \"))\n",
        "  conversion=float(pounds*1.16)\n",
        "  total=(round(conversion,2))\n",
        "\n",
        "  print(\"€\", total)\n",
        "\n",
        "convert_currency()"
      ],
      "execution_count": 22,
      "outputs": [
        {
          "output_type": "stream",
          "name": "stdout",
          "text": [
            "amount in pounds £ 60\n",
            "€ 69.6\n"
          ]
        }
      ]
    },
    {
      "cell_type": "markdown",
      "metadata": {
        "id": "Eur4tRWUQWYL"
      },
      "source": [
        "---\n",
        "### Exercise 5 - rounding\n",
        "\n",
        "Write a function called **calculate_stats()** which will:  \n",
        "\n",
        "*  assign the numbers 3.145, 5.6723 and 9.34 to the variables **num1**, **num2** and **num3** respectively  \n",
        "*  calculate the **total** of the three numbers, rounded to 2 decimal places  \n",
        "*  calculate the **average** of the numbers, rounded to 3 decimal places  \n",
        "*  print `total` and `average` in a message that labels them.\n",
        "\n",
        "Expected output:\n",
        "\n",
        "The total of the three numbers is 18.16  \n",
        "The average of the three numbers is 6.052\n",
        "\n",
        "*Remember to calculate the average you divide the total by the quantity of numbers, e.g. total/3*\n"
      ]
    },
    {
      "cell_type": "code",
      "metadata": {
        "id": "pD1lMOhuRZvd",
        "colab": {
          "base_uri": "https://localhost:8080/"
        },
        "outputId": "ee4229ad-6a93-48dd-84ae-95f8d123dbdd"
      },
      "source": [
        "def calculate_stats() :\n",
        "  num1=3.145\n",
        "  num2=5.6723\n",
        "  num3=9.34\n",
        "\n",
        "  total=float(num1+num2+num3)\n",
        "  total_round=(round(total,2))\n",
        "\n",
        "  average=float(total/3)\n",
        "  average_round=(round(average,3))\n",
        "\n",
        "  print(\"total=\", total_round, \"average=\", average_round)\n",
        "\n",
        "calculate_stats()"
      ],
      "execution_count": 34,
      "outputs": [
        {
          "output_type": "stream",
          "name": "stdout",
          "text": [
            "total= 18.16 average= 6.052\n"
          ]
        }
      ]
    },
    {
      "cell_type": "markdown",
      "metadata": {
        "id": "jsV3uF5aRZ56"
      },
      "source": [
        "---\n",
        "### Exercise 6 - calculating volume\n",
        "\n",
        "Bill is moving house. He needs to know how much space his cardboard packing boxes have.   \n",
        "\n",
        "Write a function called **calculate_volume()** which will:   \n",
        "\n",
        "*  assign the value 3.2, 5.6 and 7.8 to the variables **base**, **width** and **height** respectively  \n",
        "*  calculate the **box_volume** rounded to 1 decimal place  \n",
        "*  print the `box_volume`\n",
        "\n",
        "*Hint: volume = base x width x height*\n",
        "\n",
        "Expected output:  \n",
        "139.8\n"
      ]
    },
    {
      "cell_type": "code",
      "metadata": {
        "id": "WVLFFYayRwcN",
        "colab": {
          "base_uri": "https://localhost:8080/"
        },
        "outputId": "a49ac307-19e3-44d0-ee3f-d76b91d6268f"
      },
      "source": [
        "def calculate_volume() :\n",
        "  base=3.2\n",
        "  width=5.6 \n",
        "  height=7.8\n",
        "  box_volume=float(base*width*height)\n",
        "  box_round=(round(box_volume,1))\n",
        "  print(box_round)\n",
        "\n",
        "calculate_volume()"
      ],
      "execution_count": 39,
      "outputs": [
        {
          "output_type": "stream",
          "name": "stdout",
          "text": [
            "139.8\n"
          ]
        }
      ]
    },
    {
      "cell_type": "markdown",
      "metadata": {
        "id": "Apy8QqKIB3_c"
      },
      "source": [
        "---\n",
        "***Floor Division***  \n",
        "*So far, we have been using standard arithmetic operators. If we would like to divide without remainders (eg. no decimals) we can use floor division using the // operator.  This will always round down*.  \n",
        "\n",
        "*For example*:  \n",
        "*42/8 = 5.75*  \n",
        "*BUT*  \n",
        "4*2//8 = 5*"
      ]
    },
    {
      "cell_type": "markdown",
      "metadata": {
        "id": "eGo_VENXRwo0"
      },
      "source": [
        "---\n",
        "### Exercise 7 - calculating with volumes\n",
        "\n",
        "Bill needs to work out how many boxes he will need.  \n",
        "\n",
        "Building on what you did in the last exercise, write a function called **calculate_boxes(base, width, height)** which will:  \n",
        "\n",
        "*  calculate the volume of a box, using the **base**, **width** and **height** supplied in the brackets  \n",
        "*  ask Bill for the **total_volume** of his stuff  \n",
        "*  calculate the total **number_of_boxes** he will need, and print the `number_of_boxes`  \n",
        "\n",
        "*Hint: the `total` will not be a decimal number - you should use floor division and add one to the answer (for the box that will have the leftovers).*\n",
        "\n",
        "Test Input:  \n",
        "1500  \n",
        "\n",
        "Expected output:  \n",
        "11  \n"
      ]
    },
    {
      "cell_type": "code",
      "metadata": {
        "id": "0X6TKFubSIpT",
        "colab": {
          "base_uri": "https://localhost:8080/"
        },
        "outputId": "7427e280-4a49-41aa-e78a-fb43721cc297"
      },
      "source": [
        "def calculate_boxes():\n",
        "  # add your code below here to calculate the boxVolume, ask for totalVolume and calculate number of boxes\n",
        "  # calculate_boxes(3.2, 5.6, 7.8)\n",
        "\n",
        "  total_volume=int(input(\"total volume \"))\n",
        "  base=3.2\n",
        "  width=5.6\n",
        "  height=7.8\n",
        "  calculate=float(base*width*height)\n",
        "  \n",
        "  number_of_boxes=int(total_volume//calculate+1)\n",
        "  print(number_of_boxes)\n",
        "\n",
        "calculate_boxes ()"
      ],
      "execution_count": 61,
      "outputs": [
        {
          "output_type": "stream",
          "name": "stdout",
          "text": [
            "total volume 1500\n",
            "11\n"
          ]
        }
      ]
    },
    {
      "cell_type": "markdown",
      "metadata": {
        "id": "paxj6AccSIwy"
      },
      "source": [
        "---\n",
        "### Exercise 8 - floor division\n",
        "\n",
        "Write a function called **calculate_parcel_weight()** which will:  \n",
        "\n",
        "*  ask the user to enter the weights, in kg, of four parcels (**weight1, weight2, weight3, weight4**)\n",
        "*  calculate the total **parcel_weight** and display this in a whole number of kg, rounded up  \n",
        "*  print the `parcel_weight`\n",
        "\n",
        "*Hint: round() could either round up or down.  Floor division could be a better option* \n",
        "\n",
        "Test Inputs:  \n",
        "1.23  \n",
        "2.84  \n",
        "1.675  \n",
        "3.03  \n",
        "\n",
        "Expected output:  \n",
        "9kg\n"
      ]
    },
    {
      "cell_type": "code",
      "metadata": {
        "id": "Lulkpg6rStwT",
        "colab": {
          "base_uri": "https://localhost:8080/"
        },
        "outputId": "9196a4c0-2ab9-4d03-cc57-99dd811173e7"
      },
      "source": [
        "def calculate_parcel_weight() :\n",
        "  weight1=float(input(\"weight 1 kg\"))\n",
        "  weight2=float(input(\"weight 2 kg\"))\n",
        "  weight3=float(input(\"weight 3 kg\"))\n",
        "  weight4=float(input(\"weight 4 kg\"))\n",
        "\n",
        "  parcel_weight=float(weight1+weight2+weight3+weight4)\n",
        "  parcel_round=int(round(parcel_weight,0))\n",
        "  #parcel_round=int(parcel_weight//1)\n",
        "\n",
        "  print(parcel_round,\"kg\")\n",
        "\n",
        "calculate_parcel_weight()\n"
      ],
      "execution_count": 27,
      "outputs": [
        {
          "output_type": "stream",
          "name": "stdout",
          "text": [
            "weight 1 kg1.23\n",
            "weight 2 kg2.84\n",
            "weight 3 kg1.675\n",
            "weight 4 kg3.03\n",
            "9 kg\n"
          ]
        }
      ]
    },
    {
      "cell_type": "markdown",
      "metadata": {
        "id": "SduMAQwsXKiA"
      },
      "source": [
        "---\n",
        "### Exercise 9 - modulus\n",
        "\n",
        "Write a function called **get_pm_minutes()** which will:  \n",
        "\n",
        "*  ask the user to enter an afternoon **time** in 24 hour clock (e.g. 1350) \n",
        "*  use floor division to get the **hour** (ie divide by 100)  \n",
        "*  use modulus to get the **minutes**  \n",
        "*  subtract 12 to get the 12 hour clock storing the result back in `hour`      \n",
        "*  print a message to say that It is `minutes` minutes past `hour` PM\n",
        "\n",
        "Test Input:  \n",
        "1350  \n",
        "\n",
        "Expected output:  \n",
        "It is 50 minutes past 1 PM\n",
        "\n",
        "*(Is it possible to use this code to get the right hour for a morning time?  You will do this in the section that allows selection depending on value)*\n",
        "\n"
      ]
    },
    {
      "cell_type": "code",
      "metadata": {
        "id": "dSxM7C1dXK9g",
        "colab": {
          "base_uri": "https://localhost:8080/"
        },
        "outputId": "883cd334-227a-4bea-f46b-914b64d73ba8"
      },
      "source": [
        "def get_pm_minutes() :\n",
        "  time=int(input(\"time in 24 hr time, only use numbers (e.g.1350) \"))\n",
        "  hour=int(time//100-12)\n",
        "  minutes=int(time%100)\n",
        "  \n",
        "\n",
        "  print(\"It is\", minutes, \"minutes past\", hour)\n",
        "\n",
        "get_pm_minutes() "
      ],
      "execution_count": 14,
      "outputs": [
        {
          "output_type": "stream",
          "name": "stdout",
          "text": [
            "time in 24 hr time, only use numbers (e.g.1350) 1350\n",
            "It is 50 minutes past 1\n"
          ]
        }
      ]
    },
    {
      "cell_type": "markdown",
      "metadata": {
        "id": "HUwYL72HSt5b"
      },
      "source": [
        "---\n",
        "### Exercise 10 - How many tins of beans?  \n",
        "\n",
        "Write a function called **calculate_tins()** that will calculate how many tins of beans will fit in a cardboard box. Bean tins are *11cm tall* and *8cm* diameter.  All tins will be standing up and can be stacked in layers.  \n",
        "\n",
        "*  use the **height**, **width** and **depth** of the box supplied in the function’s brackets.   \n",
        "*  calculate the **number_of_tins** that can fit in the box   \n",
        "*  print the `number_of_tins` that can fit  \n",
        "\n",
        "*Hint: you will need to calculate the number of layers, and the number that will fit in each direction, the product (all of the numbers multiplied together) will tell you how many tins. All answers must be whole numbers*  \n",
        "\n",
        "\n",
        "Expected output:  \n",
        "24 tins will fit in this box  \n"
      ]
    },
    {
      "cell_type": "code",
      "metadata": {
        "id": "HNTLnqrDVdAW",
        "colab": {
          "base_uri": "https://localhost:8080/"
        },
        "outputId": "42c8ca11-233a-43f3-dda6-2fc4a11cdffc"
      },
      "source": [
        "def calculate_tins(height, width, depth):\n",
        "   # add your code below here # calculate_tins(24, 50, 18) # calculate_tins(height, width, depth)\n",
        "   layers=24//11\n",
        "   width=50//8\n",
        "   depth=18//8\n",
        "   print(\"how many tins can be stacked:\", layers, \"\\n\", \"how many tins can stand next to each other:\", width, \"\\n\", \"how many tins back does it go:\", depth)\n",
        "   first_layer=width*depth \n",
        "   total_tins=first_layer*layers\n",
        "   print(total_tins)\n",
        "\n",
        "calculate_tins(24, 50, 18)"
      ],
      "execution_count": 32,
      "outputs": [
        {
          "output_type": "stream",
          "name": "stdout",
          "text": [
            "how many tins can be stacked: 2 \n",
            " how many tins can stand next to each other: 6 \n",
            " how many tins back does it go: 2\n",
            "24\n"
          ]
        }
      ]
    }
  ]
}