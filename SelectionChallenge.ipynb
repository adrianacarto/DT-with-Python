{
  "nbformat": 4,
  "nbformat_minor": 0,
  "metadata": {
    "colab": {
      "name": "SelectionChallenge.ipynb",
      "provenance": [],
      "collapsed_sections": [],
      "include_colab_link": true
    },
    "kernelspec": {
      "name": "python3",
      "display_name": "Python 3"
    }
  },
  "cells": [
    {
      "cell_type": "markdown",
      "metadata": {
        "id": "view-in-github",
        "colab_type": "text"
      },
      "source": [
        "<a href=\"https://colab.research.google.com/github/adrianacarto/DT-with-Python/blob/main/SelectionChallenge.ipynb\" target=\"_parent\"><img src=\"https://colab.research.google.com/assets/colab-badge.svg\" alt=\"Open In Colab\"/></a>"
      ]
    },
    {
      "cell_type": "markdown",
      "metadata": {
        "id": "-QxAKPD8DZfj"
      },
      "source": [
        "# Three selection challenges\n",
        "\n",
        "---\n"
      ]
    },
    {
      "cell_type": "markdown",
      "metadata": {
        "id": "2KYUALILDcM9"
      },
      "source": [
        "### Challenge 1 - password format  \n",
        "\n",
        "Write a function called **check_password_valid()** which will check the validity of a **password** input by a user.\n",
        "\n",
        "Rules for a valid password are:  \n",
        "\n",
        "*  At least 1 letter between [a-z] and 1 letter between [A-Z].\n",
        "*  At least 1 number between [0-9].\n",
        "*  At least 1 character from [$#@].\n",
        "*  Minimum length 6 characters.\n",
        "*  Maximum length 16 characters.  \n",
        "\n",
        "Let the user know if the `password` they have typed is valid and, if not, where was the first error.\n",
        "\n",
        "*Hint:  to test if a set of characters is present in a password String, you can use re.search('[character set]', `password`)*  \n",
        "\n",
        "Example:   \n",
        "*if re.search('[a-z]',`password`):*    \n",
        "this will be True if there is at least 1 character a-z in the password.\n",
        "\n",
        "**re** is a pre-written Python function for pattern searching in Strings.  It has been imported for you in the code cell below.  "
      ]
    },
    {
      "cell_type": "code",
      "metadata": {
        "id": "8wBK9IA4BO2e",
        "outputId": "a6693343-14cf-4d40-fa47-33fc135ed7b0",
        "colab": {
          "base_uri": "https://localhost:8080/"
        }
      },
      "source": [
        "import re\n",
        "\n",
        "# add your check_PasswordValid() function and call below here\n",
        "\n",
        "def check_password_valid() :\n",
        "  password=(input(\"Enter a password: \"))\n",
        "  if not (len(password)<16):\n",
        "    print(\"Password not valid, too many characters. Maximum length 16 characters. \")\n",
        "  elif not (len(password)>6):\n",
        "    print(\"Password not valid, not enough characters. Minimum length 6 characters. \")\n",
        "  elif not re.search('[a-z]', password):      \n",
        "    print(\"Password not valid. Include at least 1 letter between [a-z] and 1 letter between [A-Z].\")\n",
        "  elif not re.search(\"[A-Z]\", password):\n",
        "    print(\"Password not valid. Include at least 1 letter between [a-z] and 1 letter between [A-Z].\")\n",
        "  elif not re.search(\"[0-9]\", password):\n",
        "    print(\"Password not valid. Include at least 1 number between [0-9].\")\n",
        "  elif not re.search(\"[#@$]\", password):\n",
        "    print(\"Password not valid. Include at least 1 character from [$#@].\")   \n",
        "  else:\n",
        "    print(\"Valid Password\")\n",
        "       \n",
        "check_password_valid()\n",
        "\n"
      ],
      "execution_count": 9,
      "outputs": [
        {
          "output_type": "stream",
          "name": "stdout",
          "text": [
            "Enter a password: Asdfgh8$/\n",
            "Valid Password\n"
          ]
        }
      ]
    },
    {
      "cell_type": "markdown",
      "metadata": {
        "id": "f0R4GYTEFQS-"
      },
      "source": [
        "---\n",
        "### Challenge 2 - triangle shape  \n",
        "\n",
        "Write a function called **evaluate_triangle_shape()** which will check if a triangle is equilateral, isosceles or scalene, based on the three side lengths entered by a user (**x**, **y** and **z**.\n",
        "\n",
        "An equilateral triangle is a triangle in which all three sides are equal.\n",
        "A scalene triangle is a triangle that has three unequal sides.\n",
        "An isosceles triangle is a triangle with (at least) two equal sides.\n",
        "\n",
        "For example:  \n",
        "A triange with side lengths                                 \n",
        "x: 6                                                                    \n",
        "y: 8                                                                    \n",
        "z: 12                                                                   \n",
        "is a *Scalene triangle*\n",
        "\n",
        "A triangle with side lengths\n",
        "x:5  \n",
        "y:3   \n",
        "z:5  \n",
        "is an *Isosceles triangle*"
      ]
    },
    {
      "cell_type": "code",
      "metadata": {
        "id": "oBgl4ro1DVL0",
        "outputId": "a3306e5b-80b7-4591-ff87-89560a5e5566",
        "colab": {
          "base_uri": "https://localhost:8080/"
        }
      },
      "source": [
        "def evaluate_triangle_shape() :\n",
        "\n",
        "  x=int(input(\"Enter a number\"))\n",
        "  y=int(input(\"Enter a number\"))\n",
        "  z=int(input(\"Enter a number\"))\n",
        "\n",
        "  if x==z :\n",
        "    z==y\n",
        "    print(\"Equilateral\")\n",
        "  elif z==y :\n",
        "    z!=y\n",
        "    print(\"Isosceles \")\n",
        "  else:\n",
        "    print(\"Scalene \")\n",
        "    \n",
        "evaluate_triangle_shape()\n"
      ],
      "execution_count": 17,
      "outputs": [
        {
          "output_type": "stream",
          "name": "stdout",
          "text": [
            "Enter a number1\n",
            "Enter a number2\n",
            "Enter a number3\n",
            "Scalene \n"
          ]
        }
      ]
    },
    {
      "cell_type": "markdown",
      "metadata": {
        "id": "hr2EotkqG33l"
      },
      "source": [
        "---\n",
        "### Challenge 3 - which season\n",
        "\n",
        "Write a function called **determine_season()** which will ask the user to enter two integers representing a **month** and **day** and prints the season for that month and day.\n",
        "\n",
        "Note:  for this exercise the season dates are:\n",
        "*  Winter December 21 to March 20    \n",
        "*  Spring March 21 to June 20  \n",
        "*  Summer June 21 to September 20  \n",
        "*  Autumn September 21 to December 20\n",
        "\n",
        "Test input:  \n",
        "Input the month (e.g. January, February etc.): 7                     \n",
        "Input the day: 31                                                       \n",
        "\n",
        "Expected output:  \n",
        "Season is summer \n",
        "\n",
        "*Note: this will require multiple and or or operators and you should use brackets to help Python know which operations to do first*  \n",
        "\n",
        "*For an extra challenge you can check that the day is valid for the month*"
      ]
    },
    {
      "cell_type": "code",
      "metadata": {
        "id": "cvbfz8nzG4IL",
        "outputId": "c80319cc-64f2-4961-ab81-8596f99c09e4",
        "colab": {
          "base_uri": "https://localhost:8080/"
        }
      },
      "source": [
        "def determine_season()  :\n",
        "  month=(int(input(\"Write a month (in number form, e.g. if you select march, write 3): \")))\n",
        "  day=int(input(\"Select a day (number): \"))\n",
        "\n",
        "  if (month<1 or month>12) :\n",
        "    print(\"Not a correct month, select a number between 1 and 12\")\n",
        "\n",
        "  elif (day<1 or day>31) :\n",
        "    print(\"Not a correct day of a month, select a number between 1 and 31\")\n",
        "\n",
        "  elif (month==12 and day>=21) or (month==1) or (month==2) or (month==3 and day<=20) :\n",
        "    print(\"season is winter\")\n",
        "\n",
        "  elif (month==3 and day>=21) or (month==4) or (month==5) or (month==6 and day<=20) :\n",
        "    print(\"season is spring\")\n",
        "  \n",
        "  elif (month==6 and day>=21) or (month==7) or (month==8) or (month==9 and day<=20) :\n",
        "    print(\"season is summer\")\n",
        "\n",
        "  elif (month==9 and day>=21) or (month==10) or (month==11) or (month==12 and day<=20) :\n",
        "    print(\"season is autumn\")\n",
        "\n",
        "determine_season() "
      ],
      "execution_count": 40,
      "outputs": [
        {
          "output_type": "stream",
          "name": "stdout",
          "text": [
            "Write a month (in number form, e.g. if you select march, write 3): 7\n",
            "Select a day (number): 31\n",
            "season is summer\n"
          ]
        }
      ]
    }
  ]
}